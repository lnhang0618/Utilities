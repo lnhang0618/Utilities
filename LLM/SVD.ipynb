{
 "cells": [
  {
   "cell_type": "code",
   "execution_count": null,
   "metadata": {},
   "outputs": [],
   "source": [
    "import torch\n",
    "\n",
    "from myplotstyle import AcademicPlot\n",
    "from transformers import AutoModelForCausalLM, AutoTokenizer\n",
    "# torch.linalg.matrix_rank(t)\n",
    "\n",
    "\n",
    "\n",
    "ck_path = \"/mnt/pool2/tmp/Llama-2-7b-chat-hf\"\n",
    "model = AutoModelForCausalLM.from_pretrained(ck_path).state_dict().half()\n",
    "\n",
    "print(model.keys())"
   ]
  }
 ],
 "metadata": {
  "language_info": {
   "name": "python"
  },
  "orig_nbformat": 4
 },
 "nbformat": 4,
 "nbformat_minor": 2
}
